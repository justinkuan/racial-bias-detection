{
 "cells": [
  {
   "cell_type": "markdown",
   "metadata": {},
   "source": [
    "## Inspect each chunk for accuracy of \"crime\" label"
   ]
  },
  {
   "cell_type": "markdown",
   "metadata": {},
   "source": [
    "#### Import library"
   ]
  },
  {
   "cell_type": "code",
   "execution_count": 1,
   "metadata": {},
   "outputs": [],
   "source": [
    "import os\n",
    "import pandas as pd\n",
    "pd.set_option('display.max_colwidth', 150)"
   ]
  },
  {
   "cell_type": "markdown",
   "metadata": {},
   "source": [
    "#### Manual Inspection of Topic Model Accuracy\n",
    "- Call each file saved during Chunk-processing (03_TopicModelingAllBatches.ipynb), saved in `data/interim`  \n",
    "- Take a glance at \"title\" and \"article\" to see if they are really CRIME-related news\n",
    "    - Read \"title\" and \"article\" of labeled news in `data/interim` folder\n",
    "    - Mark non-relevant filenames for next step"
   ]
  },
  {
   "cell_type": "code",
   "execution_count": 2,
   "metadata": {},
   "outputs": [
    {
     "data": {
      "text/plain": [
       "'/Users/jhonsen/Documents/DS/dsProjects/racial-bias-detection/notebooks'"
      ]
     },
     "execution_count": 2,
     "metadata": {},
     "output_type": "execute_result"
    }
   ],
   "source": [
    "os.getcwd()"
   ]
  },
  {
   "cell_type": "code",
   "execution_count": 3,
   "metadata": {},
   "outputs": [
    {
     "data": {
      "text/html": [
       "<div>\n",
       "<style scoped>\n",
       "    .dataframe tbody tr th:only-of-type {\n",
       "        vertical-align: middle;\n",
       "    }\n",
       "\n",
       "    .dataframe tbody tr th {\n",
       "        vertical-align: top;\n",
       "    }\n",
       "\n",
       "    .dataframe thead th {\n",
       "        text-align: right;\n",
       "    }\n",
       "</style>\n",
       "<table border=\"1\" class=\"dataframe\">\n",
       "  <thead>\n",
       "    <tr style=\"text-align: right;\">\n",
       "      <th></th>\n",
       "      <th>filename</th>\n",
       "      <th>topic</th>\n",
       "      <th>start_row</th>\n",
       "      <th>end_row</th>\n",
       "    </tr>\n",
       "  </thead>\n",
       "  <tbody>\n",
       "    <tr>\n",
       "      <th>0</th>\n",
       "      <td>labeled_crime_row1_to_row20000.gzip</td>\n",
       "      <td>12</td>\n",
       "      <td>1</td>\n",
       "      <td>20000</td>\n",
       "    </tr>\n",
       "    <tr>\n",
       "      <th>1</th>\n",
       "      <td>labeled_crime_row20001_to_row40000.gzip</td>\n",
       "      <td>5</td>\n",
       "      <td>20001</td>\n",
       "      <td>40000</td>\n",
       "    </tr>\n",
       "    <tr>\n",
       "      <th>2</th>\n",
       "      <td>labeled_crime_row40001_to_row60000.gzip</td>\n",
       "      <td>13</td>\n",
       "      <td>40001</td>\n",
       "      <td>60000</td>\n",
       "    </tr>\n",
       "  </tbody>\n",
       "</table>\n",
       "</div>"
      ],
      "text/plain": [
       "                                  filename  topic  start_row  end_row\n",
       "0      labeled_crime_row1_to_row20000.gzip     12          1    20000\n",
       "1  labeled_crime_row20001_to_row40000.gzip      5      20001    40000\n",
       "2  labeled_crime_row40001_to_row60000.gzip     13      40001    60000"
      ]
     },
     "execution_count": 3,
     "metadata": {},
     "output_type": "execute_result"
    }
   ],
   "source": [
    "filepath = os.path.join('..','data', 'interim', 'crime_topic_index.gzip')\n",
    "topic_index = pd.read_parquet(filepath)\n",
    "topic_index.iloc[[*range(3)],:]"
   ]
  },
  {
   "cell_type": "code",
   "execution_count": 4,
   "metadata": {},
   "outputs": [
    {
     "data": {
      "text/plain": [
       "135"
      ]
     },
     "execution_count": 4,
     "metadata": {},
     "output_type": "execute_result"
    }
   ],
   "source": [
    "# Total number of files to inspect\n",
    "topic_index.shape[0]"
   ]
  },
  {
   "cell_type": "code",
   "execution_count": 298,
   "metadata": {},
   "outputs": [],
   "source": [
    "total = topic_index.shape[0]\n",
    "\n",
    "def view(start, end):\n",
    "\n",
    "    # display setting\n",
    "    display_row = 3  # look at only the first 3 rows\n",
    "    colnames = ['topic','title','article']\n",
    "    selected_chunk = topic_index.iloc[[*range(start,end)],:]\n",
    "\n",
    "    for index, row in selected_chunk.iterrows():\n",
    "\n",
    "        if row['topic'] != 99:  # 99 is a dummy topic\n",
    "\n",
    "            # get title and articles\n",
    "            start,end,topic = row['start_row'], row['end_row'], row['topic']\n",
    "            filename = f'labeled_crime_row{start}_to_row{end}.gzip'\n",
    "\n",
    "            article = pd.read_parquet(os.path.join('..','data', 'interim', filename), \n",
    "                                      engine=\"pyarrow\").query(f'topic=={topic}').head(display_row)[colnames]        \n",
    "            select_topic_index = topic_index[(topic_index['start_row']==start) & (topic_index['end_row']==end)][['filename','topic']]\n",
    "\n",
    "            display(pd.merge(select_topic_index, article, how='inner', on='topic'))\n",
    "\n",
    "def data_batch(total):\n",
    "    for start in range(0, total, 4): \n",
    "        end = start + 4\n",
    "        try:\n",
    "            print(start, end)\n",
    "            yield view(start, end)\n",
    "        except IndexError:\n",
    "            end = total\n",
    "            view(start, end)\n",
    "\n",
    "# Initialize\n",
    "go = data_batch(total)"
   ]
  },
  {
   "cell_type": "code",
   "execution_count": 297,
   "metadata": {
    "collapsed": true,
    "jupyter": {
     "outputs_hidden": true
    }
   },
   "outputs": [
    {
     "name": "stdout",
     "output_type": "stream",
     "text": [
      "132 136\n"
     ]
    },
    {
     "ename": "StopIteration",
     "evalue": "",
     "output_type": "error",
     "traceback": [
      "\u001b[0;31m---------------------------------------------------------------------------\u001b[0m",
      "\u001b[0;31mStopIteration\u001b[0m                             Traceback (most recent call last)",
      "\u001b[0;32m<ipython-input-297-0f64a6fbdc64>\u001b[0m in \u001b[0;36m<module>\u001b[0;34m\u001b[0m\n\u001b[1;32m      1\u001b[0m \u001b[0;31m# Iterate over 135 total files\u001b[0m\u001b[0;34m\u001b[0m\u001b[0;34m\u001b[0m\u001b[0;34m\u001b[0m\u001b[0m\n\u001b[0;32m----> 2\u001b[0;31m \u001b[0mnext\u001b[0m\u001b[0;34m(\u001b[0m\u001b[0mgo\u001b[0m\u001b[0;34m)\u001b[0m\u001b[0;34m\u001b[0m\u001b[0;34m\u001b[0m\u001b[0m\n\u001b[0m",
      "\u001b[0;31mStopIteration\u001b[0m: "
     ]
    }
   ],
   "source": [
    "# Iterate over 135 total files\n",
    "next(go)"
   ]
  },
  {
   "cell_type": "markdown",
   "metadata": {},
   "source": [
    "##### Record the filenames of non-relevant crime news below"
   ]
  },
  {
   "cell_type": "code",
   "execution_count": 75,
   "metadata": {},
   "outputs": [],
   "source": [
    "# Insert the filenames for which title/article dont appear to be crime related\n",
    "\n",
    "non_crime_filenames = ['labeled_crime_row200001_to_row220000.gzip',\n",
    "                      'labeled_crime_row420001_to_row440000.gzip',\n",
    "                      'labeled_crime_row720001_to_row740000.gzip',\n",
    "                      'labeled_crime_row760001_to_row780000.gzip',\n",
    "                       'labeled_crime_row1160001_to_row1180000.gzip',\n",
    "                       'labeled_crime_row1260001_to_row1280000.gzip',\n",
    "                       'labeled_crime_row1340001_to_row1360000.gzip',\n",
    "                       'labeled_crime_row1380001_to_row1400000.gzip',\n",
    "                       'labeled_crime_row1420001_to_row1440000.gzip',\n",
    "                       'labeled_crime_row1500001_to_row1520000.gzip',\n",
    "                       'labeled_crime_row1520001_to_row1540000.gzip',\n",
    "                       'labeled_crime_row1740001_to_row1760000.gzip',\n",
    "                       'labeled_crime_row2140001_to_row2160000.gzip',\n",
    "                       'labeled_crime_row2140001_to_row2160000.gzip',\n",
    "                       'labeled_crime_row2460001_to_row2480000.gzip',\n",
    "                      ]"
   ]
  },
  {
   "cell_type": "markdown",
   "metadata": {},
   "source": [
    "---"
   ]
  },
  {
   "cell_type": "code",
   "execution_count": null,
   "metadata": {},
   "outputs": [],
   "source": []
  }
 ],
 "metadata": {
  "kernelspec": {
   "display_name": "Python 3",
   "language": "python",
   "name": "python3"
  },
  "language_info": {
   "codemirror_mode": {
    "name": "ipython",
    "version": 3
   },
   "file_extension": ".py",
   "mimetype": "text/x-python",
   "name": "python",
   "nbconvert_exporter": "python",
   "pygments_lexer": "ipython3",
   "version": "3.7.9"
  }
 },
 "nbformat": 4,
 "nbformat_minor": 4
}
