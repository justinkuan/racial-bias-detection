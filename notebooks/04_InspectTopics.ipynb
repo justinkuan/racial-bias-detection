{
 "cells": [
  {
   "cell_type": "markdown",
   "metadata": {},
   "source": [
    "## Inspect each chunk for accuracy of \"crime\" label"
   ]
  },
  {
   "cell_type": "markdown",
   "metadata": {},
   "source": [
    "#### Import library"
   ]
  },
  {
   "cell_type": "code",
   "execution_count": 1,
   "metadata": {},
   "outputs": [],
   "source": [
    "import os\n",
    "import pandas as pd\n",
    "pd.set_option('display.max_colwidth', 150)"
   ]
  },
  {
   "cell_type": "markdown",
   "metadata": {},
   "source": [
    "#### Manual Inspection of Topic Model Accuracy\n",
    "- Call each file saved during Chunk-processing (03_TopicModelingAllBatches.ipynb), saved in `data/interim`  \n",
    "- Take a glance at \"title\" and \"article\" to see if they are really CRIME-related news\n",
    "    - Read \"title\" and \"article\" of labeled news in `data/interim` folder\n",
    "    - Mark non-relevant filenames for next step"
   ]
  },
  {
   "cell_type": "code",
   "execution_count": 2,
   "metadata": {},
   "outputs": [
    {
     "data": {
      "text/plain": [
       "'/Users/jhonsen/Documents/DS/dsProjects/racial-bias-detection/notebooks'"
      ]
     },
     "execution_count": 2,
     "metadata": {},
     "output_type": "execute_result"
    }
   ],
   "source": [
    "os.getcwd()"
   ]
  },
  {
   "cell_type": "code",
   "execution_count": 3,
   "metadata": {},
   "outputs": [
    {
     "data": {
      "text/html": [
       "<div>\n",
       "<style scoped>\n",
       "    .dataframe tbody tr th:only-of-type {\n",
       "        vertical-align: middle;\n",
       "    }\n",
       "\n",
       "    .dataframe tbody tr th {\n",
       "        vertical-align: top;\n",
       "    }\n",
       "\n",
       "    .dataframe thead th {\n",
       "        text-align: right;\n",
       "    }\n",
       "</style>\n",
       "<table border=\"1\" class=\"dataframe\">\n",
       "  <thead>\n",
       "    <tr style=\"text-align: right;\">\n",
       "      <th></th>\n",
       "      <th>filename</th>\n",
       "      <th>topic</th>\n",
       "      <th>start_row</th>\n",
       "      <th>end_row</th>\n",
       "    </tr>\n",
       "  </thead>\n",
       "  <tbody>\n",
       "    <tr>\n",
       "      <th>0</th>\n",
       "      <td>labeled_crime_row1_to_row20000.gzip</td>\n",
       "      <td>12</td>\n",
       "      <td>1</td>\n",
       "      <td>20000</td>\n",
       "    </tr>\n",
       "    <tr>\n",
       "      <th>1</th>\n",
       "      <td>labeled_crime_row20001_to_row40000.gzip</td>\n",
       "      <td>5</td>\n",
       "      <td>20001</td>\n",
       "      <td>40000</td>\n",
       "    </tr>\n",
       "    <tr>\n",
       "      <th>2</th>\n",
       "      <td>labeled_crime_row40001_to_row60000.gzip</td>\n",
       "      <td>13</td>\n",
       "      <td>40001</td>\n",
       "      <td>60000</td>\n",
       "    </tr>\n",
       "  </tbody>\n",
       "</table>\n",
       "</div>"
      ],
      "text/plain": [
       "                                  filename  topic  start_row  end_row\n",
       "0      labeled_crime_row1_to_row20000.gzip     12          1    20000\n",
       "1  labeled_crime_row20001_to_row40000.gzip      5      20001    40000\n",
       "2  labeled_crime_row40001_to_row60000.gzip     13      40001    60000"
      ]
     },
     "execution_count": 3,
     "metadata": {},
     "output_type": "execute_result"
    }
   ],
   "source": [
    "filepath = os.path.join('..','data', 'interim', 'crime_topic_index.gzip')\n",
    "topic_index = pd.read_parquet(filepath)\n",
    "topic_index.iloc[[*range(3)],:]"
   ]
  },
  {
   "cell_type": "code",
   "execution_count": 4,
   "metadata": {},
   "outputs": [
    {
     "data": {
      "text/plain": [
       "135"
      ]
     },
     "execution_count": 4,
     "metadata": {},
     "output_type": "execute_result"
    }
   ],
   "source": [
    "# Total number of files to inspect\n",
    "topic_index.shape[0]"
   ]
  },
  {
   "cell_type": "code",
   "execution_count": 298,
   "metadata": {},
   "outputs": [],
   "source": [
    "total = topic_index.shape[0]\n",
    "\n",
    "def view(start, end):\n",
    "\n",
    "    # display setting\n",
    "    display_row = 3  # look at only the first 3 rows\n",
    "    colnames = ['topic','title','article']\n",
    "    selected_chunk = topic_index.iloc[[*range(start,end)],:]\n",
    "\n",
    "    for index, row in selected_chunk.iterrows():\n",
    "\n",
    "        if row['topic'] != 99:  # 99 is a dummy topic\n",
    "\n",
    "            # get title and articles\n",
    "            start,end,topic = row['start_row'], row['end_row'], row['topic']\n",
    "            filename = f'labeled_crime_row{start}_to_row{end}.gzip'\n",
    "\n",
    "            article = pd.read_parquet(os.path.join('..','data', 'interim', filename), \n",
    "                                      engine=\"pyarrow\").query(f'topic=={topic}').head(display_row)[colnames]        \n",
    "            select_topic_index = topic_index[(topic_index['start_row']==start) & (topic_index['end_row']==end)][['filename','topic']]\n",
    "\n",
    "            display(pd.merge(select_topic_index, article, how='inner', on='topic'))\n",
    "\n",
    "def data_batch(total):\n",
    "    for start in range(0, total, 4): \n",
    "        end = start + 4\n",
    "        try:\n",
    "            print(start, end)\n",
    "            yield view(start, end)\n",
    "        except IndexError:\n",
    "            end = total\n",
    "            view(start, end)\n",
    "\n",
    "# Initialize\n",
    "go = data_batch(total)"
   ]
  },
  {
   "cell_type": "markdown",
   "metadata": {},
   "source": [
    "During inspection, record filenames of potential non-crime/violence news"
   ]
  },
  {
   "cell_type": "code",
   "execution_count": 297,
   "metadata": {
    "collapsed": true,
    "jupyter": {
     "outputs_hidden": true
    }
   },
   "outputs": [
    {
     "name": "stdout",
     "output_type": "stream",
     "text": [
      "132 136\n"
     ]
    },
    {
     "ename": "StopIteration",
     "evalue": "",
     "output_type": "error",
     "traceback": [
      "\u001b[0;31m---------------------------------------------------------------------------\u001b[0m",
      "\u001b[0;31mStopIteration\u001b[0m                             Traceback (most recent call last)",
      "\u001b[0;32m<ipython-input-297-0f64a6fbdc64>\u001b[0m in \u001b[0;36m<module>\u001b[0;34m\u001b[0m\n\u001b[1;32m      1\u001b[0m \u001b[0;31m# Iterate over 135 total files\u001b[0m\u001b[0;34m\u001b[0m\u001b[0;34m\u001b[0m\u001b[0;34m\u001b[0m\u001b[0m\n\u001b[0;32m----> 2\u001b[0;31m \u001b[0mnext\u001b[0m\u001b[0;34m(\u001b[0m\u001b[0mgo\u001b[0m\u001b[0;34m)\u001b[0m\u001b[0;34m\u001b[0m\u001b[0;34m\u001b[0m\u001b[0m\n\u001b[0m",
      "\u001b[0;31mStopIteration\u001b[0m: "
     ]
    }
   ],
   "source": [
    "# Iterate over 135 total files\n",
    "next(go)"
   ]
  },
  {
   "cell_type": "code",
   "execution_count": 135,
   "metadata": {},
   "outputs": [],
   "source": [
    "# Insert the filenames for which title/article dont appear to be crime related\n",
    "\n",
    "non_crime_filenames = [\n",
    "                       'labeled_crime_row1520001_to_row1540000.gzip',\n",
    "                       'labeled_crime_row2460001_to_row2480000.gzip',\n",
    "                      ]"
   ]
  },
  {
   "cell_type": "markdown",
   "metadata": {},
   "source": [
    "---"
   ]
  },
  {
   "cell_type": "markdown",
   "metadata": {},
   "source": [
    "##### Inspect positive relevant crime news"
   ]
  },
  {
   "cell_type": "code",
   "execution_count": 155,
   "metadata": {},
   "outputs": [],
   "source": [
    "files = os.listdir(os.path.join('..','data', 'interim'))\n",
    "crime_files = [f for f in files if (f not in non_crime_filenames) & ('labeled_crime_row' in f)]\n"
   ]
  },
  {
   "cell_type": "code",
   "execution_count": 156,
   "metadata": {},
   "outputs": [
    {
     "data": {
      "text/html": [
       "<div>\n",
       "<style scoped>\n",
       "    .dataframe tbody tr th:only-of-type {\n",
       "        vertical-align: middle;\n",
       "    }\n",
       "\n",
       "    .dataframe tbody tr th {\n",
       "        vertical-align: top;\n",
       "    }\n",
       "\n",
       "    .dataframe thead th {\n",
       "        text-align: right;\n",
       "    }\n",
       "</style>\n",
       "<table border=\"1\" class=\"dataframe\">\n",
       "  <thead>\n",
       "    <tr style=\"text-align: right;\">\n",
       "      <th></th>\n",
       "      <th>title</th>\n",
       "      <th>article</th>\n",
       "    </tr>\n",
       "  </thead>\n",
       "  <tbody>\n",
       "    <tr>\n",
       "      <th>600002</th>\n",
       "      <td>Lake Bell Opens Up About How Husband Scott Campbell Changed Her View of Love &amp;amp; Marriage</td>\n",
       "      <td>I Do…Until I Don’t Is Currently In Theaters Come back every day at 8:30 a.m. EST to watch People Now streaming live from Time Inc. headquarters in...</td>\n",
       "    </tr>\n",
       "    <tr>\n",
       "      <th>600015</th>\n",
       "      <td>How Top Gun Star Kelly McGillis Survived Sexual Assaults</td>\n",
       "      <td>Happy Birthday, Kelly McGillis! The Top Gun actress turned 61 on Monday.  Her birthday arrives as Tom Cruise continues to shoot the long-anticipat...</td>\n",
       "    </tr>\n",
       "    <tr>\n",
       "      <th>600032</th>\n",
       "      <td>How 2 'Heroes' Helped Police Rescue Abducted Texas Girl, 8</td>\n",
       "      <td>When Jeff King heard that his old friend’s 8-year-old daughter had been grabbed on the street while walking with her mother Saturday night, he jum...</td>\n",
       "    </tr>\n",
       "  </tbody>\n",
       "</table>\n",
       "</div>"
      ],
      "text/plain": [
       "                                                                                              title  \\\n",
       "600002  Lake Bell Opens Up About How Husband Scott Campbell Changed Her View of Love &amp; Marriage   \n",
       "600015                                     How Top Gun Star Kelly McGillis Survived Sexual Assaults   \n",
       "600032                                   How 2 'Heroes' Helped Police Rescue Abducted Texas Girl, 8   \n",
       "\n",
       "                                                                                                                                                      article  \n",
       "600002  I Do…Until I Don’t Is Currently In Theaters Come back every day at 8:30 a.m. EST to watch People Now streaming live from Time Inc. headquarters in...  \n",
       "600015  Happy Birthday, Kelly McGillis! The Top Gun actress turned 61 on Monday.  Her birthday arrives as Tom Cruise continues to shoot the long-anticipat...  \n",
       "600032  When Jeff King heard that his old friend’s 8-year-old daughter had been grabbed on the street while walking with her mother Saturday night, he jum...  "
      ]
     },
     "metadata": {},
     "output_type": "display_data"
    },
    {
     "data": {
      "text/html": [
       "<div>\n",
       "<style scoped>\n",
       "    .dataframe tbody tr th:only-of-type {\n",
       "        vertical-align: middle;\n",
       "    }\n",
       "\n",
       "    .dataframe tbody tr th {\n",
       "        vertical-align: top;\n",
       "    }\n",
       "\n",
       "    .dataframe thead th {\n",
       "        text-align: right;\n",
       "    }\n",
       "</style>\n",
       "<table border=\"1\" class=\"dataframe\">\n",
       "  <thead>\n",
       "    <tr style=\"text-align: right;\">\n",
       "      <th></th>\n",
       "      <th>title</th>\n",
       "      <th>article</th>\n",
       "    </tr>\n",
       "  </thead>\n",
       "  <tbody>\n",
       "    <tr>\n",
       "      <th>612883</th>\n",
       "      <td>Webcam slavery: tech turns Filipino families into cybersex child traffickers</td>\n",
       "      <td>MANILA (Thomson Reuters Foundation) - It was the half-naked girls running from room to room upon her arrival that made Filipina teenager Ruby fear...</td>\n",
       "    </tr>\n",
       "    <tr>\n",
       "      <th>619474</th>\n",
       "      <td>Father Says He Expects Teens to Go Out in ‘Blaze of Glory’ as They Are Charged With Third Murder</td>\n",
       "      <td>This article originally appeared on VICE Canada. Police have identified the third person allegedly murdered by two teens on the run as a universi...</td>\n",
       "    </tr>\n",
       "    <tr>\n",
       "      <th>603873</th>\n",
       "      <td>6-Year-Old Girl Dies After Younger Brother Shoots Her Accidentally</td>\n",
       "      <td>A 6-year-old girl is dead after her younger brother accidentally shot her in the head with a loaded handgun he found in the console of the family’...</td>\n",
       "    </tr>\n",
       "  </tbody>\n",
       "</table>\n",
       "</div>"
      ],
      "text/plain": [
       "                                                                                                    title  \\\n",
       "612883                       Webcam slavery: tech turns Filipino families into cybersex child traffickers   \n",
       "619474  Father Says He Expects Teens to Go Out in ‘Blaze of Glory’ as They Are Charged With Third Murder    \n",
       "603873                                 6-Year-Old Girl Dies After Younger Brother Shoots Her Accidentally   \n",
       "\n",
       "                                                                                                                                                      article  \n",
       "612883  MANILA (Thomson Reuters Foundation) - It was the half-naked girls running from room to room upon her arrival that made Filipina teenager Ruby fear...  \n",
       "619474   This article originally appeared on VICE Canada. Police have identified the third person allegedly murdered by two teens on the run as a universi...  \n",
       "603873  A 6-year-old girl is dead after her younger brother accidentally shot her in the head with a loaded handgun he found in the console of the family’...  "
      ]
     },
     "metadata": {},
     "output_type": "display_data"
    }
   ],
   "source": [
    "fname = os.path.join('..','data', 'interim', crime_files[0])\n",
    "df = pd.read_parquet(fname, engine=\"pyarrow\")\n",
    "display(df[['title','article']].head(3))\n",
    "display(df[['title','article']].sample(3))"
   ]
  },
  {
   "cell_type": "markdown",
   "metadata": {},
   "source": [
    "##### Inspect potentially non-relevant crime/violence news"
   ]
  },
  {
   "cell_type": "code",
   "execution_count": 148,
   "metadata": {},
   "outputs": [
    {
     "data": {
      "text/html": [
       "<div>\n",
       "<style scoped>\n",
       "    .dataframe tbody tr th:only-of-type {\n",
       "        vertical-align: middle;\n",
       "    }\n",
       "\n",
       "    .dataframe tbody tr th {\n",
       "        vertical-align: top;\n",
       "    }\n",
       "\n",
       "    .dataframe thead th {\n",
       "        text-align: right;\n",
       "    }\n",
       "</style>\n",
       "<table border=\"1\" class=\"dataframe\">\n",
       "  <thead>\n",
       "    <tr style=\"text-align: right;\">\n",
       "      <th></th>\n",
       "      <th>title</th>\n",
       "      <th>article</th>\n",
       "    </tr>\n",
       "  </thead>\n",
       "  <tbody>\n",
       "    <tr>\n",
       "      <th>2460338</th>\n",
       "      <td>Rep. Duncan Hunter resigns from Congress</td>\n",
       "      <td>Rep. Duncan Hunter will officially step down from Congress next week, more than a month after the California Republican pleaded guilty to conspira...</td>\n",
       "    </tr>\n",
       "    <tr>\n",
       "      <th>2460366</th>\n",
       "      <td>Ruth Bader Ginsburg says she is cancer-free</td>\n",
       "      <td>Ruth Bader Ginsburg remains clear of cancer, the Supreme Court justice told CNN this week. “I’m cancer free. That’s good,” she told the outlet in ...</td>\n",
       "    </tr>\n",
       "    <tr>\n",
       "      <th>2460370</th>\n",
       "      <td>Appeals court lifts block on $3.6 billion for Trump border wall plan</td>\n",
       "      <td>A divided federal appeals court has lifted a lower court’s order blocking $3.6 billion in military construction funds that President Donald Trump ...</td>\n",
       "    </tr>\n",
       "  </tbody>\n",
       "</table>\n",
       "</div>"
      ],
      "text/plain": [
       "                                                                        title  \\\n",
       "2460338                              Rep. Duncan Hunter resigns from Congress   \n",
       "2460366                           Ruth Bader Ginsburg says she is cancer-free   \n",
       "2460370  Appeals court lifts block on $3.6 billion for Trump border wall plan   \n",
       "\n",
       "                                                                                                                                                       article  \n",
       "2460338  Rep. Duncan Hunter will officially step down from Congress next week, more than a month after the California Republican pleaded guilty to conspira...  \n",
       "2460366  Ruth Bader Ginsburg remains clear of cancer, the Supreme Court justice told CNN this week. “I’m cancer free. That’s good,” she told the outlet in ...  \n",
       "2460370  A divided federal appeals court has lifted a lower court’s order blocking $3.6 billion in military construction funds that President Donald Trump ...  "
      ]
     },
     "metadata": {},
     "output_type": "display_data"
    },
    {
     "data": {
      "text/html": [
       "<div>\n",
       "<style scoped>\n",
       "    .dataframe tbody tr th:only-of-type {\n",
       "        vertical-align: middle;\n",
       "    }\n",
       "\n",
       "    .dataframe tbody tr th {\n",
       "        vertical-align: top;\n",
       "    }\n",
       "\n",
       "    .dataframe thead th {\n",
       "        text-align: right;\n",
       "    }\n",
       "</style>\n",
       "<table border=\"1\" class=\"dataframe\">\n",
       "  <thead>\n",
       "    <tr style=\"text-align: right;\">\n",
       "      <th></th>\n",
       "      <th>title</th>\n",
       "      <th>article</th>\n",
       "    </tr>\n",
       "  </thead>\n",
       "  <tbody>\n",
       "    <tr>\n",
       "      <th>2467522</th>\n",
       "      <td>U.S. FAA seeks to fine Boeing $5.4 million for defective parts on 737 MAX planes</td>\n",
       "      <td>WASHINGTON, Jan 10 (Reuters) - The Federal Aviation Administration (FAA) said on Friday it is seeking to fine Boeing Co $5.4 million, alleging it ...</td>\n",
       "    </tr>\n",
       "    <tr>\n",
       "      <th>2477020</th>\n",
       "      <td>Weinstein judge warns jurors against #MeToo 'referendum'</td>\n",
       "      <td>Judge James Burke told prospective jurors on Thursday not to view Harvey Weinstein&amp;aposs criminal trial as a \"referendum on the #MeToo movement\" o...</td>\n",
       "    </tr>\n",
       "    <tr>\n",
       "      <th>2478642</th>\n",
       "      <td>How gangs 'effectively control' the prisons in Honduras</td>\n",
       "      <td>Editor&amp;aposs Note: This article is part of an ongoing series on prison conditions and criminal justice policy around the world.Dozens of inmates w...</td>\n",
       "    </tr>\n",
       "  </tbody>\n",
       "</table>\n",
       "</div>"
      ],
      "text/plain": [
       "                                                                                    title  \\\n",
       "2467522  U.S. FAA seeks to fine Boeing $5.4 million for defective parts on 737 MAX planes   \n",
       "2477020                          Weinstein judge warns jurors against #MeToo 'referendum'   \n",
       "2478642                           How gangs 'effectively control' the prisons in Honduras   \n",
       "\n",
       "                                                                                                                                                       article  \n",
       "2467522  WASHINGTON, Jan 10 (Reuters) - The Federal Aviation Administration (FAA) said on Friday it is seeking to fine Boeing Co $5.4 million, alleging it ...  \n",
       "2477020  Judge James Burke told prospective jurors on Thursday not to view Harvey Weinstein&aposs criminal trial as a \"referendum on the #MeToo movement\" o...  \n",
       "2478642  Editor&aposs Note: This article is part of an ongoing series on prison conditions and criminal justice policy around the world.Dozens of inmates w...  "
      ]
     },
     "metadata": {},
     "output_type": "display_data"
    }
   ],
   "source": [
    "df = pd.read_parquet(os.path.join('..','data', 'interim', non_crime_filenames[1]), engine=\"pyarrow\")\n",
    "display(df[['title','article']].head(3))\n",
    "display(df[['title','article']].sample(3))"
   ]
  },
  {
   "cell_type": "code",
   "execution_count": null,
   "metadata": {},
   "outputs": [],
   "source": []
  },
  {
   "cell_type": "code",
   "execution_count": null,
   "metadata": {},
   "outputs": [],
   "source": []
  }
 ],
 "metadata": {
  "kernelspec": {
   "display_name": "Python 3",
   "language": "python",
   "name": "python3"
  },
  "language_info": {
   "codemirror_mode": {
    "name": "ipython",
    "version": 3
   },
   "file_extension": ".py",
   "mimetype": "text/x-python",
   "name": "python",
   "nbconvert_exporter": "python",
   "pygments_lexer": "ipython3",
   "version": "3.7.9"
  }
 },
 "nbformat": 4,
 "nbformat_minor": 4
}
