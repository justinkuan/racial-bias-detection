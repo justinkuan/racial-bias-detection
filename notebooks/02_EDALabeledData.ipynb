{
 "cells": [
  {
   "cell_type": "markdown",
   "metadata": {},
   "source": [
    "## Explore Labeled Data"
   ]
  },
  {
   "cell_type": "markdown",
   "metadata": {},
   "source": [
    "#### Import Libraries"
   ]
  },
  {
   "cell_type": "code",
   "execution_count": 1,
   "metadata": {},
   "outputs": [],
   "source": [
    "import os \n",
    "import pandas as pd\n",
    "pd.options.display.max_colwidth = 350"
   ]
  },
  {
   "cell_type": "code",
   "execution_count": 2,
   "metadata": {},
   "outputs": [],
   "source": [
    "# Change to parent directory\n",
    "import os\n",
    "os.chdir(os.pardir)"
   ]
  },
  {
   "cell_type": "code",
   "execution_count": 3,
   "metadata": {},
   "outputs": [
    {
     "name": "stdout",
     "output_type": "stream",
     "text": [
      "14954 total rows\n"
     ]
    },
    {
     "data": {
      "text/html": [
       "<div>\n",
       "<style scoped>\n",
       "    .dataframe tbody tr th:only-of-type {\n",
       "        vertical-align: middle;\n",
       "    }\n",
       "\n",
       "    .dataframe tbody tr th {\n",
       "        vertical-align: top;\n",
       "    }\n",
       "\n",
       "    .dataframe thead th {\n",
       "        text-align: right;\n",
       "    }\n",
       "</style>\n",
       "<table border=\"1\" class=\"dataframe\">\n",
       "  <thead>\n",
       "    <tr style=\"text-align: right;\">\n",
       "      <th></th>\n",
       "      <th>date</th>\n",
       "      <th>author</th>\n",
       "      <th>title</th>\n",
       "      <th>article</th>\n",
       "      <th>url</th>\n",
       "      <th>section</th>\n",
       "      <th>publication</th>\n",
       "      <th>topic</th>\n",
       "    </tr>\n",
       "  </thead>\n",
       "  <tbody>\n",
       "    <tr>\n",
       "      <th>10021</th>\n",
       "      <td>2018-08-15 14:40:00</td>\n",
       "      <td>Kristin Salaky</td>\n",
       "      <td>What to do if you were cheated on or caught cheating</td>\n",
       "      <td>When you cheat on someone, the first step is to come clean, regardless of what you want the outcome to be.If you've been cheated on, protect yourself and honor your feelings. Take it one day at a time.It's up to both of you where the relationship goes from here.Good communication is key.</td>\n",
       "      <td>https://www.businessinsider.com/what-to-do-if-you-cheated-on-someone-2017-6</td>\n",
       "      <td>unknown</td>\n",
       "      <td>Business Insider</td>\n",
       "      <td>11</td>\n",
       "    </tr>\n",
       "    <tr>\n",
       "      <th>6780</th>\n",
       "      <td>2017-03-16 11:00:00</td>\n",
       "      <td>Grennan Milliken</td>\n",
       "      <td>Obama's EPA Head Is Very Worried About Our Health</td>\n",
       "      <td>With the election of Donald J. Trump as President, the Environmental Protection Agency got a boss that views it with contempt—even calling to dismantle it entirely. Motherboard called up former Obama-era EPA administrator Gina McCarthy—who helped orchestrate two rules Trump is already trying to undo: the Waters of the US rule and the Clean Pow...</td>\n",
       "      <td>https://www.vice.com/en_us/article/ez85yj/obamas-epa-head-is-very-worried-about-our-health</td>\n",
       "      <td>Tech by VICE</td>\n",
       "      <td>Vice</td>\n",
       "      <td>0</td>\n",
       "    </tr>\n",
       "    <tr>\n",
       "      <th>10935</th>\n",
       "      <td>2016-03-03 18:55:00</td>\n",
       "      <td>Michael Scott Barron</td>\n",
       "      <td>Oneohtrix Point Never to Debut New Live Set at Brooklyn Venue Warsaw</td>\n",
       "      <td>Daniel Lopatin (aka Oneohtrix Point Never) has been on a long tour to celebrate his acclaimed LP Garden of Delete, which THUMP named as its second favorite album of 2015. Now it appears that Lopatin has something special planned when he returns for a hometown show at Brooklyn's Warsaw venue on March 17. According to the promoter, Lopatin and vi...</td>\n",
       "      <td>https://www.vice.com/en_us/article/xypgwn/oneohtrix-point-never-to-debut-new-live-set-at-brooklyn-venue-warsaw</td>\n",
       "      <td>Noisey</td>\n",
       "      <td>Vice</td>\n",
       "      <td>1</td>\n",
       "    </tr>\n",
       "  </tbody>\n",
       "</table>\n",
       "</div>"
      ],
      "text/plain": [
       "                     date                author  \\\n",
       "10021 2018-08-15 14:40:00        Kristin Salaky   \n",
       "6780  2017-03-16 11:00:00      Grennan Milliken   \n",
       "10935 2016-03-03 18:55:00  Michael Scott Barron   \n",
       "\n",
       "                                                                      title  \\\n",
       "10021                  What to do if you were cheated on or caught cheating   \n",
       "6780                      Obama's EPA Head Is Very Worried About Our Health   \n",
       "10935  Oneohtrix Point Never to Debut New Live Set at Brooklyn Venue Warsaw   \n",
       "\n",
       "                                                                                                                                                                                                                                                                                                                                                             article  \\\n",
       "10021                                                               When you cheat on someone, the first step is to come clean, regardless of what you want the outcome to be.If you've been cheated on, protect yourself and honor your feelings. Take it one day at a time.It's up to both of you where the relationship goes from here.Good communication is key.   \n",
       "6780    With the election of Donald J. Trump as President, the Environmental Protection Agency got a boss that views it with contempt—even calling to dismantle it entirely. Motherboard called up former Obama-era EPA administrator Gina McCarthy—who helped orchestrate two rules Trump is already trying to undo: the Waters of the US rule and the Clean Pow...   \n",
       "10935  Daniel Lopatin (aka Oneohtrix Point Never) has been on a long tour to celebrate his acclaimed LP Garden of Delete, which THUMP named as its second favorite album of 2015. Now it appears that Lopatin has something special planned when he returns for a hometown show at Brooklyn's Warsaw venue on March 17. According to the promoter, Lopatin and vi...   \n",
       "\n",
       "                                                                                                                  url  \\\n",
       "10021                                     https://www.businessinsider.com/what-to-do-if-you-cheated-on-someone-2017-6   \n",
       "6780                       https://www.vice.com/en_us/article/ez85yj/obamas-epa-head-is-very-worried-about-our-health   \n",
       "10935  https://www.vice.com/en_us/article/xypgwn/oneohtrix-point-never-to-debut-new-live-set-at-brooklyn-venue-warsaw   \n",
       "\n",
       "            section       publication  topic  \n",
       "10021       unknown  Business Insider     11  \n",
       "6780   Tech by VICE              Vice      0  \n",
       "10935        Noisey              Vice      1  "
      ]
     },
     "execution_count": 3,
     "metadata": {},
     "output_type": "execute_result"
    }
   ],
   "source": [
    "filename = \"labeled_subset_first_15000.gzip\"\n",
    "\n",
    "df = pd.read_parquet(os.path.join('data', 'interim', filename), engine=\"pyarrow\")\n",
    "print(df.shape[0], 'total rows')\n",
    "df.sample(3)"
   ]
  },
  {
   "cell_type": "markdown",
   "metadata": {},
   "source": [
    "#### Look at topic **3**"
   ]
  },
  {
   "cell_type": "code",
   "execution_count": 4,
   "metadata": {},
   "outputs": [
    {
     "data": {
      "text/html": [
       "<div>\n",
       "<style scoped>\n",
       "    .dataframe tbody tr th:only-of-type {\n",
       "        vertical-align: middle;\n",
       "    }\n",
       "\n",
       "    .dataframe tbody tr th {\n",
       "        vertical-align: top;\n",
       "    }\n",
       "\n",
       "    .dataframe thead th {\n",
       "        text-align: right;\n",
       "    }\n",
       "</style>\n",
       "<table border=\"1\" class=\"dataframe\">\n",
       "  <thead>\n",
       "    <tr style=\"text-align: right;\">\n",
       "      <th></th>\n",
       "      <th>date</th>\n",
       "      <th>author</th>\n",
       "      <th>title</th>\n",
       "      <th>article</th>\n",
       "      <th>url</th>\n",
       "      <th>section</th>\n",
       "      <th>publication</th>\n",
       "      <th>topic</th>\n",
       "    </tr>\n",
       "  </thead>\n",
       "  <tbody>\n",
       "    <tr>\n",
       "      <th>14490</th>\n",
       "      <td>2018-01-05</td>\n",
       "      <td>unknown</td>\n",
       "      <td>Meghan Markle's Future Sister-in-Law Arrested for Assaulting Bro</td>\n",
       "      <td>Meghan Markle's not the only one in her family planning a wedding -- but her half-brother's might be on hold after his fiancee got busted for assaulting him. Darlene Blount was arrested in Oregon Sunday night -- just before midnight, actually -- after what cops describe as a booze-fueled altercation. Blount was booked for 4th degree assault abo...</td>\n",
       "      <td>https://www.tmz.com/2018/01/05/meghan-markle-future-sister-in-law-arrested-assault/</td>\n",
       "      <td>unknown</td>\n",
       "      <td>TMZ</td>\n",
       "      <td>3</td>\n",
       "    </tr>\n",
       "    <tr>\n",
       "      <th>280</th>\n",
       "      <td>2018-08-10</td>\n",
       "      <td>unknown</td>\n",
       "      <td>John Mayer's Home Burglarized and 'Ransacked'</td>\n",
       "      <td>John Mayer is the latest celeb to be hit by burglars ... TMZ has learned. Law enforcement sources tell us, someone broke into the singer's Beverly Hills-area home mid-morning Friday. The intruder got in by smashing a bedroom window. We're told the house was \"ransacked.\" The burglar/burglars made off with music equipment and personal property. O...</td>\n",
       "      <td>https://www.tmz.com/2018/08/10/john-mayer-home-burglary-burglarized/</td>\n",
       "      <td>unknown</td>\n",
       "      <td>TMZ</td>\n",
       "      <td>3</td>\n",
       "    </tr>\n",
       "    <tr>\n",
       "      <th>12303</th>\n",
       "      <td>2019-06-30</td>\n",
       "      <td>Nelson Renteria</td>\n",
       "      <td>Bodies of Salvadoran migrants return home after harrowing border deaths</td>\n",
       "      <td>LA HACHADURA, El Salvador (Reuters) - The corpses of a Salvadoran father and his 23-month-old daughter, whose bodies lying face down in the Rio Grande became symbols of the perils of illegal immigration to the United States, were returned to their homeland on Sunday.  A stark photo of the dead Oscar Martinez, 25, and his daughter Angie Valeria ...</td>\n",
       "      <td>https://www.reuters.com/article/us-usa-immigration-elsalvador/bodies-of-salvadoran-migrants-return-home-after-harrowing-border-deaths-idUSKCN1TV0W0</td>\n",
       "      <td>World News</td>\n",
       "      <td>Reuters</td>\n",
       "      <td>3</td>\n",
       "    </tr>\n",
       "    <tr>\n",
       "      <th>587</th>\n",
       "      <td>2016-11-23</td>\n",
       "      <td>unknown</td>\n",
       "      <td>See Inside Donald Trump's Mar-a-Lago Resort</td>\n",
       "      <td>It's not a bad second home for sure ... this is where President-elect Donald Trump and fam will chill when it gets too chilly in D.C. Trump is at Mar-a-Lago for Thanksgiving, and it's likely where he'll be spending time when he's not living in D.C. or NYC. The club sits on 20 acres and Trump shares it with 500 members. His home is palatial ... ...</td>\n",
       "      <td>https://www.tmz.com/2016/11/23/donald-trump-mar-a-lago-winter-white-house-thanksgiving/</td>\n",
       "      <td>unknown</td>\n",
       "      <td>TMZ</td>\n",
       "      <td>3</td>\n",
       "    </tr>\n",
       "  </tbody>\n",
       "</table>\n",
       "</div>"
      ],
      "text/plain": [
       "            date           author  \\\n",
       "14490 2018-01-05          unknown   \n",
       "280   2018-08-10          unknown   \n",
       "12303 2019-06-30  Nelson Renteria   \n",
       "587   2016-11-23          unknown   \n",
       "\n",
       "                                                                         title  \\\n",
       "14490         Meghan Markle's Future Sister-in-Law Arrested for Assaulting Bro   \n",
       "280                              John Mayer's Home Burglarized and 'Ransacked'   \n",
       "12303  Bodies of Salvadoran migrants return home after harrowing border deaths   \n",
       "587                                See Inside Donald Trump's Mar-a-Lago Resort   \n",
       "\n",
       "                                                                                                                                                                                                                                                                                                                                                             article  \\\n",
       "14490  Meghan Markle's not the only one in her family planning a wedding -- but her half-brother's might be on hold after his fiancee got busted for assaulting him. Darlene Blount was arrested in Oregon Sunday night -- just before midnight, actually -- after what cops describe as a booze-fueled altercation. Blount was booked for 4th degree assault abo...   \n",
       "280    John Mayer is the latest celeb to be hit by burglars ... TMZ has learned. Law enforcement sources tell us, someone broke into the singer's Beverly Hills-area home mid-morning Friday. The intruder got in by smashing a bedroom window. We're told the house was \"ransacked.\" The burglar/burglars made off with music equipment and personal property. O...   \n",
       "12303  LA HACHADURA, El Salvador (Reuters) - The corpses of a Salvadoran father and his 23-month-old daughter, whose bodies lying face down in the Rio Grande became symbols of the perils of illegal immigration to the United States, were returned to their homeland on Sunday.  A stark photo of the dead Oscar Martinez, 25, and his daughter Angie Valeria ...   \n",
       "587    It's not a bad second home for sure ... this is where President-elect Donald Trump and fam will chill when it gets too chilly in D.C. Trump is at Mar-a-Lago for Thanksgiving, and it's likely where he'll be spending time when he's not living in D.C. or NYC. The club sits on 20 acres and Trump shares it with 500 members. His home is palatial ... ...   \n",
       "\n",
       "                                                                                                                                                       url  \\\n",
       "14490                                                                  https://www.tmz.com/2018/01/05/meghan-markle-future-sister-in-law-arrested-assault/   \n",
       "280                                                                                   https://www.tmz.com/2018/08/10/john-mayer-home-burglary-burglarized/   \n",
       "12303  https://www.reuters.com/article/us-usa-immigration-elsalvador/bodies-of-salvadoran-migrants-return-home-after-harrowing-border-deaths-idUSKCN1TV0W0   \n",
       "587                                                                https://www.tmz.com/2016/11/23/donald-trump-mar-a-lago-winter-white-house-thanksgiving/   \n",
       "\n",
       "          section publication  topic  \n",
       "14490     unknown         TMZ      3  \n",
       "280       unknown         TMZ      3  \n",
       "12303  World News     Reuters      3  \n",
       "587       unknown         TMZ      3  "
      ]
     },
     "execution_count": 4,
     "metadata": {},
     "output_type": "execute_result"
    }
   ],
   "source": [
    "# Topic 3 \n",
    "df[df.topic==3].sample(4)"
   ]
  },
  {
   "cell_type": "code",
   "execution_count": 19,
   "metadata": {},
   "outputs": [
    {
     "data": {
      "text/html": [
       "<div>\n",
       "<style scoped>\n",
       "    .dataframe tbody tr th:only-of-type {\n",
       "        vertical-align: middle;\n",
       "    }\n",
       "\n",
       "    .dataframe tbody tr th {\n",
       "        vertical-align: top;\n",
       "    }\n",
       "\n",
       "    .dataframe thead th {\n",
       "        text-align: right;\n",
       "    }\n",
       "</style>\n",
       "<table border=\"1\" class=\"dataframe\">\n",
       "  <thead>\n",
       "    <tr style=\"text-align: right;\">\n",
       "      <th></th>\n",
       "      <th>title</th>\n",
       "      <th>article</th>\n",
       "    </tr>\n",
       "  </thead>\n",
       "  <tbody>\n",
       "    <tr>\n",
       "      <th>14490</th>\n",
       "      <td>Meghan Markle's Future Sister-in-Law Arrested for Assaulting Bro</td>\n",
       "      <td>Meghan Markle's not the only one in her family planning a wedding -- but her half-brother's might be on hold after his fiancee got busted for assaulting him. Darlene Blount was arrested in Oregon Sunday night -- just before midnight, actually -- after what cops describe as a booze-fueled altercation. Blount was booked for 4th degree assault abo...</td>\n",
       "    </tr>\n",
       "  </tbody>\n",
       "</table>\n",
       "</div>"
      ],
      "text/plain": [
       "                                                                  title  \\\n",
       "14490  Meghan Markle's Future Sister-in-Law Arrested for Assaulting Bro   \n",
       "\n",
       "                                                                                                                                                                                                                                                                                                                                                             article  \n",
       "14490  Meghan Markle's not the only one in her family planning a wedding -- but her half-brother's might be on hold after his fiancee got busted for assaulting him. Darlene Blount was arrested in Oregon Sunday night -- just before midnight, actually -- after what cops describe as a booze-fueled altercation. Blount was booked for 4th degree assault abo...  "
      ]
     },
     "execution_count": 19,
     "metadata": {},
     "output_type": "execute_result"
    }
   ],
   "source": [
    "# Inspect of these articles\n",
    "df[df.index==14490][['title','article']]"
   ]
  },
  {
   "cell_type": "code",
   "execution_count": 21,
   "metadata": {},
   "outputs": [
    {
     "name": "stdout",
     "output_type": "stream",
     "text": [
      "TITLE: Meghan Markle's Future Sister-in-Law Arrested for Assaulting Bro\n"
     ]
    },
    {
     "data": {
      "text/plain": [
       "'Meghan Markle\\'s not the only one in her family planning a wedding -- but her half-brother\\'s might be on hold after his fiancee got busted for assaulting him. Darlene Blount was arrested in Oregon Sunday night -- just before midnight, actually -- after what cops describe as a booze-fueled altercation. Blount was booked for 4th degree assault about 4 hours into 2018. Happy new year! Darlene is engaged to Thomas Markle, Meghan\\'s half-brother. They have the same father, but don\\'t appear to be close anymore. Thomas told the Daily Mail -- which first reported the arrest -- he hasn\\'t seen Meghan since 2011 when she moved to take her role in \"Suits.\" We\\'re guessing this probably hurts Thomas and Darlene\\'s shot at a royal wedding invitation. Just a guess.'"
      ]
     },
     "execution_count": 21,
     "metadata": {},
     "output_type": "execute_result"
    }
   ],
   "source": [
    "print(\"TITLE:\",df[df.index==14490].title.values[0])\n",
    "df[df.index==14490].article.values[0]"
   ]
  },
  {
   "cell_type": "code",
   "execution_count": null,
   "metadata": {},
   "outputs": [],
   "source": []
  }
 ],
 "metadata": {
  "kernelspec": {
   "display_name": "bigdata",
   "language": "python",
   "name": "bigdata"
  },
  "language_info": {
   "codemirror_mode": {
    "name": "ipython",
    "version": 3
   },
   "file_extension": ".py",
   "mimetype": "text/x-python",
   "name": "python",
   "nbconvert_exporter": "python",
   "pygments_lexer": "ipython3",
   "version": "3.7.0"
  }
 },
 "nbformat": 4,
 "nbformat_minor": 4
}
