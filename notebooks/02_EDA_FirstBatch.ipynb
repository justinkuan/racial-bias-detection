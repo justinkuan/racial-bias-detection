{
 "cells": [
  {
   "cell_type": "markdown",
   "metadata": {},
   "source": [
    "## Explore Labeled Data"
   ]
  },
  {
   "cell_type": "markdown",
   "metadata": {},
   "source": [
    "#### Import Libraries"
   ]
  },
  {
   "cell_type": "code",
   "execution_count": 1,
   "metadata": {},
   "outputs": [],
   "source": [
    "import os \n",
    "import pandas as pd\n",
    "pd.options.display.max_colwidth = 350"
   ]
  },
  {
   "cell_type": "code",
   "execution_count": 2,
   "metadata": {},
   "outputs": [],
   "source": [
    "# Change to parent directory\n",
    "import os\n",
    "os.chdir(os.pardir)"
   ]
  },
  {
   "cell_type": "code",
   "execution_count": 3,
   "metadata": {},
   "outputs": [
    {
     "name": "stdout",
     "output_type": "stream",
     "text": [
      "14954 total rows\n"
     ]
    },
    {
     "data": {
      "text/html": [
       "<div>\n",
       "<style scoped>\n",
       "    .dataframe tbody tr th:only-of-type {\n",
       "        vertical-align: middle;\n",
       "    }\n",
       "\n",
       "    .dataframe tbody tr th {\n",
       "        vertical-align: top;\n",
       "    }\n",
       "\n",
       "    .dataframe thead th {\n",
       "        text-align: right;\n",
       "    }\n",
       "</style>\n",
       "<table border=\"1\" class=\"dataframe\">\n",
       "  <thead>\n",
       "    <tr style=\"text-align: right;\">\n",
       "      <th></th>\n",
       "      <th>date</th>\n",
       "      <th>author</th>\n",
       "      <th>title</th>\n",
       "      <th>article</th>\n",
       "      <th>url</th>\n",
       "      <th>section</th>\n",
       "      <th>publication</th>\n",
       "      <th>topic</th>\n",
       "    </tr>\n",
       "  </thead>\n",
       "  <tbody>\n",
       "    <tr>\n",
       "      <th>10085</th>\n",
       "      <td>2017-10-27 17:00:00</td>\n",
       "      <td>Clarissa Wei</td>\n",
       "      <td>Inside the Lakota Sioux's Fight for Food Sovereignty</td>\n",
       "      <td>\"Chokecherries!\" Winona Katso shouts from the passenger window. She points to a bush sagging heavy with deep crimson berries just a couple feet away, and the pickup truck she is riding in halts to an abrupt stop on the single lane road, surrounded by prairie land. Volunteers jump out of the back of the van with plastic buckets and piles of enth...</td>\n",
       "      <td>https://www.vice.com/en_us/article/8x5q3x/inside-the-lakota-siouxs-fight-for-food-sovereignty</td>\n",
       "      <td>Food by VICE</td>\n",
       "      <td>Vice</td>\n",
       "      <td>8</td>\n",
       "    </tr>\n",
       "    <tr>\n",
       "      <th>8307</th>\n",
       "      <td>2018-04-27 00:00:00</td>\n",
       "      <td>Tim Hume</td>\n",
       "      <td>Britons are planning to make Trump's visit to London very unpleasant</td>\n",
       "      <td>Donald Trump will make an official visit to London regardless of the threat of mass protests, the U.S. ambassador to Britain said Friday. “He's very thick-skinned,” Woody Johnson told LBC.  He’ll need to be. The news Thursday that Trump will land in Britain on July 13 was met with immediate calls for demonstrations from human rights groups, act...</td>\n",
       "      <td>https://news.vice.com/en_us/article/ne9pkk/trump-uk-protests-trip-london-visit</td>\n",
       "      <td>unknown</td>\n",
       "      <td>Vice News</td>\n",
       "      <td>2</td>\n",
       "    </tr>\n",
       "    <tr>\n",
       "      <th>1722</th>\n",
       "      <td>2018-06-26 00:00:00</td>\n",
       "      <td>unknown</td>\n",
       "      <td>Thomas Markle is Upset President Trump Will Meet the Queen Before Him</td>\n",
       "      <td>Thomas Markle thinks the Royal Family is putting him in the \"penalty box\" after his \"Good Morning Britain\" interview a week ago, especially since President Trump is getting to meet Her Majesty before him. Thomas tells TMZ, he hasn't spoken with anyone from the palace since last week's interview. Not even his daughter, Meghan ... who, of course,...</td>\n",
       "      <td>https://www.tmz.com/2018/06/26/thomas-markle-pissed-president-trump-meeting-queen/</td>\n",
       "      <td>unknown</td>\n",
       "      <td>TMZ</td>\n",
       "      <td>11</td>\n",
       "    </tr>\n",
       "  </tbody>\n",
       "</table>\n",
       "</div>"
      ],
      "text/plain": [
       "                     date        author  \\\n",
       "10085 2017-10-27 17:00:00  Clarissa Wei   \n",
       "8307  2018-04-27 00:00:00      Tim Hume   \n",
       "1722  2018-06-26 00:00:00       unknown   \n",
       "\n",
       "                                                                       title  \\\n",
       "10085                   Inside the Lakota Sioux's Fight for Food Sovereignty   \n",
       "8307    Britons are planning to make Trump's visit to London very unpleasant   \n",
       "1722   Thomas Markle is Upset President Trump Will Meet the Queen Before Him   \n",
       "\n",
       "                                                                                                                                                                                                                                                                                                                                                             article  \\\n",
       "10085  \"Chokecherries!\" Winona Katso shouts from the passenger window. She points to a bush sagging heavy with deep crimson berries just a couple feet away, and the pickup truck she is riding in halts to an abrupt stop on the single lane road, surrounded by prairie land. Volunteers jump out of the back of the van with plastic buckets and piles of enth...   \n",
       "8307   Donald Trump will make an official visit to London regardless of the threat of mass protests, the U.S. ambassador to Britain said Friday. “He's very thick-skinned,” Woody Johnson told LBC.  He’ll need to be. The news Thursday that Trump will land in Britain on July 13 was met with immediate calls for demonstrations from human rights groups, act...   \n",
       "1722   Thomas Markle thinks the Royal Family is putting him in the \"penalty box\" after his \"Good Morning Britain\" interview a week ago, especially since President Trump is getting to meet Her Majesty before him. Thomas tells TMZ, he hasn't spoken with anyone from the palace since last week's interview. Not even his daughter, Meghan ... who, of course,...   \n",
       "\n",
       "                                                                                                 url  \\\n",
       "10085  https://www.vice.com/en_us/article/8x5q3x/inside-the-lakota-siouxs-fight-for-food-sovereignty   \n",
       "8307                  https://news.vice.com/en_us/article/ne9pkk/trump-uk-protests-trip-london-visit   \n",
       "1722              https://www.tmz.com/2018/06/26/thomas-markle-pissed-president-trump-meeting-queen/   \n",
       "\n",
       "             section publication  topic  \n",
       "10085  Food by VICE         Vice      8  \n",
       "8307         unknown   Vice News      2  \n",
       "1722         unknown         TMZ     11  "
      ]
     },
     "execution_count": 3,
     "metadata": {},
     "output_type": "execute_result"
    }
   ],
   "source": [
    "filename = \"labeled_subset_first_15000.gzip\"\n",
    "\n",
    "df = pd.read_parquet(os.path.join('data', 'interim', filename), engine=\"pyarrow\")\n",
    "print(df.shape[0], 'total rows')\n",
    "df.sample(3)"
   ]
  },
  {
   "cell_type": "markdown",
   "metadata": {},
   "source": [
    "#### Look at topic **3**, labeled as `Violence`-topic from topic modeling\n"
   ]
  },
  {
   "cell_type": "code",
   "execution_count": 4,
   "metadata": {},
   "outputs": [
    {
     "data": {
      "text/html": [
       "<div>\n",
       "<style scoped>\n",
       "    .dataframe tbody tr th:only-of-type {\n",
       "        vertical-align: middle;\n",
       "    }\n",
       "\n",
       "    .dataframe tbody tr th {\n",
       "        vertical-align: top;\n",
       "    }\n",
       "\n",
       "    .dataframe thead th {\n",
       "        text-align: right;\n",
       "    }\n",
       "</style>\n",
       "<table border=\"1\" class=\"dataframe\">\n",
       "  <thead>\n",
       "    <tr style=\"text-align: right;\">\n",
       "      <th></th>\n",
       "      <th>date</th>\n",
       "      <th>author</th>\n",
       "      <th>title</th>\n",
       "      <th>article</th>\n",
       "      <th>url</th>\n",
       "      <th>section</th>\n",
       "      <th>publication</th>\n",
       "      <th>topic</th>\n",
       "    </tr>\n",
       "  </thead>\n",
       "  <tbody>\n",
       "    <tr>\n",
       "      <th>614</th>\n",
       "      <td>2018-09-07 00:00:00</td>\n",
       "      <td>unknown</td>\n",
       "      <td>Burt Reynolds Look-Alikes to Compete For Best 'Bandit' Costume</td>\n",
       "      <td>Hundreds of Burt Reynolds look-alikes will flood the streets of Long Island this month for a car show honoring the late actor ... and the best impersonator wins a big ass trophy!!! We're told Burt was invited to the Motor Mania Long Island Auto Expo, but he couldn't travel because of his health. After the actor passed away Thursday of a heart a...</td>\n",
       "      <td>https://www.tmz.com/2018/09/07/burt-reynolds-trans-am-look-alike-car-show-long-island-smokey-bandit/</td>\n",
       "      <td>unknown</td>\n",
       "      <td>TMZ</td>\n",
       "      <td>3</td>\n",
       "    </tr>\n",
       "    <tr>\n",
       "      <th>7424</th>\n",
       "      <td>2016-04-27 09:56:00</td>\n",
       "      <td>Daisy Jones</td>\n",
       "      <td>Shed a Tear While Watching D’Angelo Cover Prince’s “Sometimes It Snows in April” on 'Jimmy Fallon'</td>\n",
       "      <td>Yesterday, in the middle of a relatively warm spring day in London, little grey clouds began to cluster together like magnets until the sky was entirely covered. And then, as an icy chill slowly descended across the air, big fat snowflakes began freefalling from the heavens in an impromptu mini-blizzard, leaving an avalanche of “OMG IT’S A MESS...</td>\n",
       "      <td>https://www.vice.com/en_us/article/rnwg9z/dangelo-cover-of-princes-sometimes-it-snows-in-april</td>\n",
       "      <td>Noisey</td>\n",
       "      <td>Vice</td>\n",
       "      <td>3</td>\n",
       "    </tr>\n",
       "    <tr>\n",
       "      <th>5506</th>\n",
       "      <td>2018-08-17 00:00:00</td>\n",
       "      <td>unknown</td>\n",
       "      <td>Young Thug Arrested for Felony Gun Possession After Album Release Party</td>\n",
       "      <td>5:48 AM PT -- Law enforcement sources tell us as they were leaving, a member of Thug's crew ran into a police cruiser, prompting the vehicle search which uncovered the weapons. Young Thug was busted by cops after they allegedly found the rapper and members of his crew in possession of multiple weapons. Thug held a party at Dave &amp; Buster's Holly...</td>\n",
       "      <td>https://www.tmz.com/2018/08/17/young-thug-arrested-weapon-possession-album-release-slime-language/</td>\n",
       "      <td>unknown</td>\n",
       "      <td>TMZ</td>\n",
       "      <td>3</td>\n",
       "    </tr>\n",
       "    <tr>\n",
       "      <th>6361</th>\n",
       "      <td>2016-08-12 00:00:00</td>\n",
       "      <td>Rachel Browne</td>\n",
       "      <td>A UK teen girl who joined the Islamic State is believed dead â€“ VICE News</td>\n",
       "      <td>A teen girl who left her home in east London last year to join Islamic State militants in Syria is believed to have been killed by a Russian airstrike. Kadiza Sultana was 16 years old when she and two friends from school, Shamima Begum and Amira Abase, secretly flew from Gatwick airport to Istanbul in February 2015 and crossed into Syria. It's ...</td>\n",
       "      <td>https://news.vice.com/en_us/article/pa48ak/a-uk-teen-girl-who-joined-isis-is-believed-dead</td>\n",
       "      <td>unknown</td>\n",
       "      <td>Vice News</td>\n",
       "      <td>3</td>\n",
       "    </tr>\n",
       "  </tbody>\n",
       "</table>\n",
       "</div>"
      ],
      "text/plain": [
       "                    date         author  \\\n",
       "614  2018-09-07 00:00:00        unknown   \n",
       "7424 2016-04-27 09:56:00    Daisy Jones   \n",
       "5506 2018-08-17 00:00:00        unknown   \n",
       "6361 2016-08-12 00:00:00  Rachel Browne   \n",
       "\n",
       "                                                                                                   title  \\\n",
       "614                                       Burt Reynolds Look-Alikes to Compete For Best 'Bandit' Costume   \n",
       "7424  Shed a Tear While Watching D’Angelo Cover Prince’s “Sometimes It Snows in April” on 'Jimmy Fallon'   \n",
       "5506                             Young Thug Arrested for Felony Gun Possession After Album Release Party   \n",
       "6361                          A UK teen girl who joined the Islamic State is believed dead â€“ VICE News   \n",
       "\n",
       "                                                                                                                                                                                                                                                                                                                                                            article  \\\n",
       "614   Hundreds of Burt Reynolds look-alikes will flood the streets of Long Island this month for a car show honoring the late actor ... and the best impersonator wins a big ass trophy!!! We're told Burt was invited to the Motor Mania Long Island Auto Expo, but he couldn't travel because of his health. After the actor passed away Thursday of a heart a...   \n",
       "7424  Yesterday, in the middle of a relatively warm spring day in London, little grey clouds began to cluster together like magnets until the sky was entirely covered. And then, as an icy chill slowly descended across the air, big fat snowflakes began freefalling from the heavens in an impromptu mini-blizzard, leaving an avalanche of “OMG IT’S A MESS...   \n",
       "5506  5:48 AM PT -- Law enforcement sources tell us as they were leaving, a member of Thug's crew ran into a police cruiser, prompting the vehicle search which uncovered the weapons. Young Thug was busted by cops after they allegedly found the rapper and members of his crew in possession of multiple weapons. Thug held a party at Dave & Buster's Holly...   \n",
       "6361  A teen girl who left her home in east London last year to join Islamic State militants in Syria is believed to have been killed by a Russian airstrike. Kadiza Sultana was 16 years old when she and two friends from school, Shamima Begum and Amira Abase, secretly flew from Gatwick airport to Istanbul in February 2015 and crossed into Syria. It's ...   \n",
       "\n",
       "                                                                                                       url  \\\n",
       "614   https://www.tmz.com/2018/09/07/burt-reynolds-trans-am-look-alike-car-show-long-island-smokey-bandit/   \n",
       "7424        https://www.vice.com/en_us/article/rnwg9z/dangelo-cover-of-princes-sometimes-it-snows-in-april   \n",
       "5506    https://www.tmz.com/2018/08/17/young-thug-arrested-weapon-possession-album-release-slime-language/   \n",
       "6361            https://news.vice.com/en_us/article/pa48ak/a-uk-teen-girl-who-joined-isis-is-believed-dead   \n",
       "\n",
       "      section publication  topic  \n",
       "614   unknown         TMZ      3  \n",
       "7424   Noisey        Vice      3  \n",
       "5506  unknown         TMZ      3  \n",
       "6361  unknown   Vice News      3  "
      ]
     },
     "execution_count": 4,
     "metadata": {},
     "output_type": "execute_result"
    }
   ],
   "source": [
    "# Topic 3 \n",
    "df[df.topic==3].sample(4)"
   ]
  },
  {
   "cell_type": "code",
   "execution_count": 5,
   "metadata": {},
   "outputs": [
    {
     "data": {
      "text/html": [
       "<div>\n",
       "<style scoped>\n",
       "    .dataframe tbody tr th:only-of-type {\n",
       "        vertical-align: middle;\n",
       "    }\n",
       "\n",
       "    .dataframe tbody tr th {\n",
       "        vertical-align: top;\n",
       "    }\n",
       "\n",
       "    .dataframe thead th {\n",
       "        text-align: right;\n",
       "    }\n",
       "</style>\n",
       "<table border=\"1\" class=\"dataframe\">\n",
       "  <thead>\n",
       "    <tr style=\"text-align: right;\">\n",
       "      <th></th>\n",
       "      <th>title</th>\n",
       "      <th>article</th>\n",
       "    </tr>\n",
       "  </thead>\n",
       "  <tbody>\n",
       "    <tr>\n",
       "      <th>14490</th>\n",
       "      <td>Meghan Markle's Future Sister-in-Law Arrested for Assaulting Bro</td>\n",
       "      <td>Meghan Markle's not the only one in her family planning a wedding -- but her half-brother's might be on hold after his fiancee got busted for assaulting him. Darlene Blount was arrested in Oregon Sunday night -- just before midnight, actually -- after what cops describe as a booze-fueled altercation. Blount was booked for 4th degree assault abo...</td>\n",
       "    </tr>\n",
       "  </tbody>\n",
       "</table>\n",
       "</div>"
      ],
      "text/plain": [
       "                                                                  title  \\\n",
       "14490  Meghan Markle's Future Sister-in-Law Arrested for Assaulting Bro   \n",
       "\n",
       "                                                                                                                                                                                                                                                                                                                                                             article  \n",
       "14490  Meghan Markle's not the only one in her family planning a wedding -- but her half-brother's might be on hold after his fiancee got busted for assaulting him. Darlene Blount was arrested in Oregon Sunday night -- just before midnight, actually -- after what cops describe as a booze-fueled altercation. Blount was booked for 4th degree assault abo...  "
      ]
     },
     "execution_count": 5,
     "metadata": {},
     "output_type": "execute_result"
    }
   ],
   "source": [
    "# Inspect of these articles\n",
    "df[df.index==14490][['title','article']]"
   ]
  },
  {
   "cell_type": "code",
   "execution_count": 6,
   "metadata": {},
   "outputs": [
    {
     "name": "stdout",
     "output_type": "stream",
     "text": [
      "TITLE: Meghan Markle's Future Sister-in-Law Arrested for Assaulting Bro\n"
     ]
    },
    {
     "data": {
      "text/plain": [
       "'Meghan Markle\\'s not the only one in her family planning a wedding -- but her half-brother\\'s might be on hold after his fiancee got busted for assaulting him. Darlene Blount was arrested in Oregon Sunday night -- just before midnight, actually -- after what cops describe as a booze-fueled altercation. Blount was booked for 4th degree assault about 4 hours into 2018. Happy new year! Darlene is engaged to Thomas Markle, Meghan\\'s half-brother. They have the same father, but don\\'t appear to be close anymore. Thomas told the Daily Mail -- which first reported the arrest -- he hasn\\'t seen Meghan since 2011 when she moved to take her role in \"Suits.\" We\\'re guessing this probably hurts Thomas and Darlene\\'s shot at a royal wedding invitation. Just a guess.'"
      ]
     },
     "execution_count": 6,
     "metadata": {},
     "output_type": "execute_result"
    }
   ],
   "source": [
    "print(\"TITLE:\",df[df.index==14490].title.values[0])\n",
    "df[df.index==14490].article.values[0]"
   ]
  },
  {
   "cell_type": "markdown",
   "metadata": {},
   "source": [
    "---"
   ]
  },
  {
   "cell_type": "markdown",
   "metadata": {},
   "source": [
    "#### Analyze Topic 3 for bias keywords"
   ]
  },
  {
   "cell_type": "code",
   "execution_count": 10,
   "metadata": {},
   "outputs": [],
   "source": [
    "crime = df[df.topic==3]"
   ]
  },
  {
   "cell_type": "code",
   "execution_count": 17,
   "metadata": {},
   "outputs": [
    {
     "data": {
      "text/plain": [
       "array(['This article originally appeared on VICE UK Outside a café in Delft, a suburb of the so-called Cape Flats in the Western Cape province of South Africa, a security camera picks up a young man standing by a door, lighting up a cigarette. A hand with a gun in it extends from the frame of the door and lights up the screen with muzzle fire—a noiseless bang. The young man falls to the floor, before another man, holding the gun, exits, and double-taps inexpertly to finish the job. The one on the floor shakes with the force of the shot and is still. The other man runs.  Welcome to the Cape Flats—part of a province where 310 gang-related murders took place in 2013 alone. A relic of South Africa\\'s apartheid legacy, it\\'s staggering on the brink of a gang violence crisis that has few parallels in the modern world. It has its own particular mythos, a blend of celebrity status, urban legends, a monster meth-derivative known locally as \"tik,\" and a violence rate that ranks Cape Town 20th in a recent study of the most violent cities on Earth—higher than many high-profile crime-ridden cities in the US, Brazil, Colombia, and Mexico.  Most news reports and analysts estimate that there are about 100,000 gang members operating in the province, spread out over 130 official gangs. With a homicide rate of 50 per 100,000 residents, and 70,000 drug-related incidents recorded between 2010 and 2011, the situation is truly virulent. Names like the Junky Funky Boys, Hard Livings, and Americans are the most common—in conjunction with the internationally notorious and mythical prison \"Numbers Gang.\" The situation has escalated to the extent that schools are closed down when the violence and tit-for-tat shootings become too widespread. Premier of the Western Cape, Helen Zille, has repeatedly called for the deployment of the South African National Defence Force (SANDF) in the area. The violence permeates every aspect of every resident\\'s life. According to a report in The Guardian last year, a life is lost to gang violence every five days on the Cape Flats, and 25 to 30 firearms are seized every week.  The security camera footage is shown to us by Charl Kitching of the City of Cape Town\\'s Metro Police Unit, half an hour before we embark on a 50-man operation with him and his team into the Flats. It was taken about a week prior, in a period of escalating gang violence related to the release of key players from prison. \"They make damn sure that guy is dead. They don\\'t play games,\" says Kitching. Along with Alderman JP Smith, Mayoral Committee Member for Safety and Security, Kitching and his team undertake this operation as part of the Gangs and Drugs Unit that was launched in 2011 by the Metro Police in response to the crisis on the Flats.  The Cape Flats, as they\\'re known colloquially, are a collection of informal settlements and suburbs that were formed in the 1950s in line with the apartheid government\\'s forced relocation policies and legislation. Historically, the area is also home to South Africa\\'s largest \"colored\" population; one of the four main designations of race under apartheid that has a mixed race ancestry consisting of European, African, and Asian blood. The Western Cape is the only province that is not majority black African—and also the only province not under majority control of the ruling African National Congress (ANC). Colored persons were granted more political concessions than black persons in the 80s by the Nationalist government, and the two groups generally see themselves as culturally distinct. Racism between colored and black folk is not unheard of. This means that when democracy was negotiated in the years between Mandela\\'s release in 1990 and the first democratic elections in 1994, the ANC was not the coloured voters\\' default choice.  The Western Cape is thus a key symbol in South Africa\\'s political landscape, giving rise to a power struggle that often leaves communities out in the cold. The response to gang crime is not homogenous—it\\'s intricate, bureaucratic, and plagued by infighting. The ultimate irony here is that the race-politics that created the Flats in the first place are now ensuring that a cooperative, effective solution to end its woes is nowhere in sight.  The Metro Unit, consisting of around 600 members, is accountable to the city, thus the ruling provincial government, the Democratic Alliance (DA). Whereas the SAPS, as the primary law enforcement agency in the country, number around 22,000 and answer only to the national executive: the ANC. The broader political playing field, that of the ever-present struggle between the ANC and the DA, is leaving a horrendous mark on a community that couldn\\'t care less about who takes care of the situation—just that it\\'s taken care of.  The Metro Police are generally intended only to enforce traffic and by-laws. In the Western Cape, they\\'ve had to undertake further responsibility in violent crime prevention and form supplementary units such as the Gangs and Drugs team in response (unofficially) to SAPS inefficacy—poor conviction rates, endemic corruption, and shocking administration. Rumors of police complicity are widespread, and in June last year a former officer, Christiaan Prinsloo, was arrested in a highly publicized case for supplying gangs with firearms. The conviction rate for gang-related offenses is estimated to be around 2 percent—35 successful murder convictions out of 950 reported murders in the last three years.  Metro now resemble a highway patrol on protein powder. The department has grown by 53 percent in the past nine years. Officially, they can make arrests, conduct search and seizures, and carry more firepower than is usual for any council-controlled cop. As JP Smith puts it, the SAPS have forced them to \"reinvent the wheel,\" with R46 million set aside by the city last year just to combat gangs.  \"The public have no trust in the police stations. There is no confidence in SAPS—they are completely discredited to the public,\" he says. \"The National Prosecuting Authority is now talking to directly us, which is unheard of. They\\'re taking cases directly from us.\"  Smith feels very strongly about the politics of it all: \"There\\'s purposeful malicious undermining on a political level, and you see that in the starvation of resources.\"  The gangs become social institutions, an aspirational cult for the disillusioned and the poor. At night, with the Gangs Unit, the city-subsidized council housing resembles a Soviet-style communist area. The apartments are lined up in neat rows, blocks extending skywards with narrow, poorly lit alleys cracking them open. Everything is tarmac, cement, faded, glum.  The Gangs Unit undertake this large-scale operation on a bi-weekly basis. As we slink through blocks with Afrikaans names like Geduld (patience), residents peer at us from up high. The Unit plays an almost matronly role—tough love. People loitering about are told to get indoors: \"Wat maak jy nog so laat buite?\" (\"What are you doing out so late?\") and the entire process is one of search and seizure based on intelligence gathered throughout the week. Some residents take issue with Metro on these seemingly random searches—others are welcoming and friendly.  The officers all tell us that this is the quietest night they\\'ve had in months. Generally they can expect lines of frustrated residents throwing rocks, bricks and sometimes even Molotovs at them. Many of the Unit are coloured people from the Flats themselves. They know the areas, and they know the people.  A call comes in of an inter-block shooting. The stench of cordite is still heavy in the air when we get there. The gangsters literally shoot from one apartment block to another across a street. Apparently the residents help them stash guns and blend in with the others as soon as the boere (pigs) show up. In many cases, the Unit tells us, the residents tell them to go find other gangsters; that these ones are theirs and that the OTHER gangsters are the bad ones. The tension and the mistrust, despite the efforts of the Metro to work on a more personal level than the SAPS, is clear to see.  \"It would help if SAPS were properly deployed. The fact that you have a 2 percent conviction rate for gang violence tells you the whole story,\" says Smith in the van. \"It\\'s completely political. It\\'s also why they don\\'t want specialised units. Because the guys who have one foot in the gang environment don\\'t want their businesses to be scratched.\"  Premier Zille has often drawn the same conclusion. Speaking in 2014 regarding the banning of the famed specialized units in 2003, she said: \"That leaves only one conclusion: they were shut down by the then commissioner, Jackie Selebi, because he became friends with some \\'big fish\\' who did not want their activities effectively investigated.\"  Selebi, a former president of Interpol, had previously admitted being friendly with high-profile gangsters. He was convicted in 2010 on charges of corruption but was released on medical parole two years later and died early in 2015.  The SAPS, however, have had their own successes. Launched in 2010, Operation Combat is an anti-gang strategy spearheaded by Major General Jeremy Veary. In addition to the promulgation of the Prevention of Organized Crime Act, the strategy has seen the successful conviction of 16 high-ranking Fancy Boys and six 28\\'s from Bishop Lavis and Valhalla Park—purportedly as a result of two years of high-intensity intelligence gathering and effort. The overall conviction rate remains low, however. Smith alleges that Veary and his team are unwilling to work with them.  \"We are very willing to cooperate and have reached out to them continually. I have made three appointments to [Veary]. I\\'ve even gone through a political colleague of his to set up a meeting,\" claims Smith. \"Three meetings, all of which were cancelled within minutes. It was an open \\'diss\\' to us. We\\'ve tried—there isn\\'t willingness.\"  The ANC and its comrades have also fired back in the public sphere, accusing Smith and Zille of being rudderless and lacking in leadership: \"Smith is copying foreign gimmicks at huge cost to the city, with no original idea to solve the problem,\" wrote Tony Ehrenreich, a trade-unionist and ANC member. \"His so-called Crime interrupters have been of no use in this crisis, as the most high profile area is falling apart, while he blames everyone else.\"  Compounded by the political divisions between provincial and national authorities, the crisis seems no closer to being resolved, particularly due to the recent White Paper draft bill on the \"streamlining\" of SAPS and Metro Police announced in August of 2015. It was described by Western Cape provincial authorities as \"proof of the fact that this remains primarily a political move and that the desire to seize control of the Metro Police services around South Africa was born from and is driven by a party political agenda and not the broad public interest.\" Sure enough, a week after our ride-along with Metro in November of 2015, the Mail & Guardian\\'s acclaimed investigative journalism unit revealed that current president Jacob Zuma had met with gang lords in the run-up to the 2011 local elections. Political support was promised by the gangsters in exchange for business opportunities, with the gang lords allegedly addressing Zuma in \"friendly\" tones. The report was dismissed as fake by the ANC, despite its corroboration by two independent witnesses.  The fact that gang lords can make these kinds of promises and meet with the president is indicative of the sway they hold in the community. Metro Police can only do so much with the resources available, all while their superiors battle it out on a political playground wholly removed from the realities of life on the flats. The officers we accompanied refused to be named for fear of gang retaliation, but they all share a kind of beleaguered inevitability. The night\\'s report ends with a preparatory brief on the next day\\'s mission: the monitoring of the funeral of the kid who\\'d been shot in Delft.  A senior official caps the night with a smoke. We ask him why he does it, when the communication between community and cop has deteriorated so badly, when the job seems so thankless and the prospects so bleak, so enmeshed in South African stereotypes. How do you police a community that often doesn\\'t want to be policed by you?  He replies: \"Eish, man. Somebody\\'s got to start cleaning up this country.\"  Follow Karl and Shaun on Twitter.'],\n",
       "      dtype=object)"
      ]
     },
     "execution_count": 17,
     "metadata": {},
     "output_type": "execute_result"
    }
   ],
   "source": [
    "crime[crime.article.str.contains('colored')][['article']].head(1)['article'].values"
   ]
  },
  {
   "cell_type": "code",
   "execution_count": 18,
   "metadata": {},
   "outputs": [],
   "source": [
    "filename = os.path.join('data', 'interim', 'crime_news_first_batch.csv')\n",
    "crime.to_csv(filename)"
   ]
  },
  {
   "cell_type": "code",
   "execution_count": null,
   "metadata": {},
   "outputs": [],
   "source": []
  }
 ],
 "metadata": {
  "kernelspec": {
   "display_name": "Python 3",
   "language": "python",
   "name": "python3"
  },
  "language_info": {
   "codemirror_mode": {
    "name": "ipython",
    "version": 3
   },
   "file_extension": ".py",
   "mimetype": "text/x-python",
   "name": "python",
   "nbconvert_exporter": "python",
   "pygments_lexer": "ipython3",
   "version": "3.7.9"
  }
 },
 "nbformat": 4,
 "nbformat_minor": 4
}
